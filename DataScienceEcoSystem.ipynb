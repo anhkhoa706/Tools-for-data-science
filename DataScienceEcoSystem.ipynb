{
 "cells": [
  {
   "cell_type": "markdown",
   "metadata": {},
   "source": [
    "# Exercise 2: Data Science Tools and Ecosystem"
   ]
  },
  {
   "cell_type": "markdown",
   "metadata": {},
   "source": [
    "# Exercise 3 - Introduction\n",
    "In this notebook, Data Science Tools and Ecosystem are summarized."
   ]
  },
  {
   "cell_type": "markdown",
   "metadata": {},
   "source": [
    "# Exercise 4 - Data Science Languages\n",
    "Some of the popular languages that Data Scientists use are:\n",
    "- Python\n",
    "- R\n",
    "- Julia"
   ]
  },
  {
   "cell_type": "markdown",
   "metadata": {},
   "source": [
    "# Exercise 5 - Data Science Libraries\n",
    "Some of the commonly used libraries used by Data Scientists include:\n",
    "- NumPy\n",
    "- Pandas\n",
    "- Matplotlib\n",
    "- Seaborn\n",
    "- Scikit-learn"
   ]
  },
  {
   "cell_type": "markdown",
   "metadata": {},
   "source": [
    "# Exercise 6 - Data Science Tools Table\n",
    "| Tool              | Purpose                  |\n",
    "|-------------------|--------------------------|\n",
    "| Jupyter Notebook  | Interactive Computing    |\n",
    "| VS Code           | Integrated Development   |\n",
    "| TensorFlow        | Machine Learning         |\n",
    "| PyTorch           | Deep Learning Framework  |"
   ]
  },
  {
   "cell_type": "markdown",
   "metadata": {},
   "source": [
    "# Exercise 7 - Arithmetic Expression Examples\n",
    "This section introduces arithmetic expression examples."
   ]
  },
  {
   "cell_type": "code",
   "execution_count": 2,
   "metadata": {},
   "outputs": [
    {
     "name": "stdout",
     "output_type": "stream",
     "text": [
      "Addition Result: 8\n",
      "Subtraction Result: 6\n",
      "Multiplication Result: 42\n",
      "Division Result: 5.0\n",
      "Exponentiation Result: 8\n",
      "Modulo Result: 1\n"
     ]
    }
   ],
   "source": [
    "# Example 1: Addition\n",
    "result_addition = 5 + 3\n",
    "print(\"Addition Result:\", result_addition)\n",
    "\n",
    "# Example 2: Subtraction\n",
    "result_subtraction = 10 - 4\n",
    "print(\"Subtraction Result:\", result_subtraction)\n",
    "\n",
    "# Example 3: Multiplication\n",
    "result_multiplication = 6 * 7\n",
    "print(\"Multiplication Result:\", result_multiplication)\n",
    "\n",
    "# Example 4: Division\n",
    "result_division = 20 / 4\n",
    "print(\"Division Result:\", result_division)\n",
    "\n",
    "# Example 5: Exponentiation\n",
    "result_exponentiation = 2 ** 3\n",
    "print(\"Exponentiation Result:\", result_exponentiation)\n",
    "\n",
    "# Example 6: Modulo (Remainder)\n",
    "result_modulo = 15 % 7\n",
    "print(\"Modulo Result:\", result_modulo)"
   ]
  },
  {
   "cell_type": "markdown",
   "metadata": {},
   "source": [
    "# Exercise 8 - Create a code cell to multiply and add numbers"
   ]
  },
  {
   "cell_type": "code",
   "execution_count": 1,
   "metadata": {},
   "outputs": [
    {
     "name": "stdout",
     "output_type": "stream",
     "text": [
      "Multiplication result: 15\n",
      "Addition result: 8\n"
     ]
    }
   ],
   "source": [
    "a = 3\n",
    "b = 5\n",
    "result_multiply = a * b\n",
    "result_add = a + b\n",
    "print(\"Multiplication result:\", result_multiply)\n",
    "print(\"Addition result:\", result_add)"
   ]
  },
  {
   "cell_type": "markdown",
   "metadata": {},
   "source": [
    "# Exercise 9 - Create a code cell to convert minutes to hours"
   ]
  },
  {
   "cell_type": "code",
   "execution_count": 3,
   "metadata": {},
   "outputs": [
    {
     "name": "stdout",
     "output_type": "stream",
     "text": [
      "Conversion from minutes to hours: 2.0\n"
     ]
    }
   ],
   "source": [
    "minutes = 120\n",
    "hours = minutes / 60\n",
    "print(\"Conversion from minutes to hours:\", hours)"
   ]
  },
  {
   "cell_type": "markdown",
   "metadata": {},
   "source": [
    "# Exercise 10 - Objectives\n",
    "Understand basic markdown and code cell usage\n",
    "List data science languages and libraries\n",
    "Create a table of data science tools\n",
    "Perform arithmetic expressions in Python"
   ]
  },
  {
   "cell_type": "markdown",
   "metadata": {},
   "source": [
    "# Exercise 11 - Author\n",
    "This notebook was created by Khoa Nguyen."
   ]
  }
 ],
 "metadata": {
  "kernelspec": {
   "display_name": ".venv",
   "language": "python",
   "name": "python3"
  },
  "language_info": {
   "codemirror_mode": {
    "name": "ipython",
    "version": 3
   },
   "file_extension": ".py",
   "mimetype": "text/x-python",
   "name": "python",
   "nbconvert_exporter": "python",
   "pygments_lexer": "ipython3",
   "version": "3.9.12"
  },
  "orig_nbformat": 4
 },
 "nbformat": 4,
 "nbformat_minor": 2
}
